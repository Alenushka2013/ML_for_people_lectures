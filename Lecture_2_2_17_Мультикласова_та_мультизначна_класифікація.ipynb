{
  "nbformat": 4,
  "nbformat_minor": 0,
  "metadata": {
    "colab": {
      "provenance": [],
      "include_colab_link": true
    },
    "kernelspec": {
      "name": "python3",
      "display_name": "Python 3"
    },
    "language_info": {
      "name": "python"
    }
  },
  "cells": [
    {
      "cell_type": "markdown",
      "metadata": {
        "id": "view-in-github",
        "colab_type": "text"
      },
      "source": [
        "<a href=\"https://colab.research.google.com/github/Alenushka2013/ML_for_people_lectures/blob/main/Lecture_2_2_17_%D0%9C%D1%83%D0%BB%D1%8C%D1%82%D0%B8%D0%BA%D0%BB%D0%B0%D1%81%D0%BE%D0%B2%D0%B0_%D1%82%D0%B0_%D0%BC%D1%83%D0%BB%D1%8C%D1%82%D0%B8%D0%B7%D0%BD%D0%B0%D1%87%D0%BD%D0%B0_%D0%BA%D0%BB%D0%B0%D1%81%D0%B8%D1%84%D1%96%D0%BA%D0%B0%D1%86%D1%96%D1%8F.ipynb\" target=\"_parent\"><img src=\"https://colab.research.google.com/assets/colab-badge.svg\" alt=\"Open In Colab\"/></a>"
      ]
    },
    {
      "cell_type": "markdown",
      "source": [
        "Для мультикласової класифікації будемо використовувати набір даних про [ризик ожиріння](https://www.kaggle.com/datasets/ikjotsingh221/obesity-risk-prediction-cleaned/data).\n",
        "\n",
        "Цей датасет взятий з бібліотеки UCI. Він був очищений за допомогою таких технік: нормалізація за допомогою z-score, one-hot кодування, видалення викидів, масштабування min-max і відбір ознак.\n",
        "\n",
        "Стовпчик цільових значень 'NObeyesdad' містить наступне кодування рівнів ожиріння:\n",
        "\n",
        "- Insufficient_Weight: 0\n",
        "- Normal_Weight: 1\n",
        "- Overweight_Level_I: 2\n",
        "- Overweight_Level_II: 3\n",
        "- Obesity_Type_I: 4\n",
        "- Obesity_Type_II: 5\n",
        "- Obesity_Type_III: 6"
      ],
      "metadata": {
        "id": "vJEowb09jTcc"
      }
    },
    {
      "cell_type": "code",
      "source": [
        "import pandas as pd\n",
        "import numpy as np\n",
        "from sklearn.datasets import load_wine\n",
        "from sklearn.model_selection import train_test_split\n",
        "from sklearn.linear_model import LogisticRegression\n",
        "from sklearn.metrics import classification_report, precision_score, recall_score\n",
        "from sklearn.multiclass import OneVsRestClassifier, OneVsOneClassifier"
      ],
      "metadata": {
        "id": "uS_TkO56hbfO"
      },
      "execution_count": 1,
      "outputs": []
    },
    {
      "cell_type": "code",
      "source": [
        "# Завантажимо дані\n",
        "df = pd.read_csv('/content/estimation_of_obesity_levels_based_on_eating_habits_and_physical.csv')"
      ],
      "metadata": {
        "id": "iMTE0VDDjWDk"
      },
      "execution_count": 2,
      "outputs": []
    },
    {
      "cell_type": "code",
      "source": [
        "df.dtypes"
      ],
      "metadata": {
        "colab": {
          "base_uri": "https://localhost:8080/",
          "height": 554
        },
        "id": "zhrhBeIpkQ4C",
        "outputId": "b61ad394-8502-43a6-844f-761451e46e08"
      },
      "execution_count": 3,
      "outputs": [
        {
          "output_type": "execute_result",
          "data": {
            "text/plain": [
              "Height                            float64\n",
              "Weight                            float64\n",
              "family_history_with_overweight      int64\n",
              "SCC                                 int64\n",
              "MTRANS_Walking                      int64\n",
              "FAVC_z                            float64\n",
              "FCVC_minmax                       float64\n",
              "NCP_z                             float64\n",
              "CAEC_minmax                       float64\n",
              "CH2O_minmax                       float64\n",
              "FAF_minmax                        float64\n",
              "TUE_z                             float64\n",
              "CALC_z                            float64\n",
              "Age_bin_minmax                    float64\n",
              "NObeyesdad                          int64\n",
              "dtype: object"
            ],
            "text/html": [
              "<div>\n",
              "<style scoped>\n",
              "    .dataframe tbody tr th:only-of-type {\n",
              "        vertical-align: middle;\n",
              "    }\n",
              "\n",
              "    .dataframe tbody tr th {\n",
              "        vertical-align: top;\n",
              "    }\n",
              "\n",
              "    .dataframe thead th {\n",
              "        text-align: right;\n",
              "    }\n",
              "</style>\n",
              "<table border=\"1\" class=\"dataframe\">\n",
              "  <thead>\n",
              "    <tr style=\"text-align: right;\">\n",
              "      <th></th>\n",
              "      <th>0</th>\n",
              "    </tr>\n",
              "  </thead>\n",
              "  <tbody>\n",
              "    <tr>\n",
              "      <th>Height</th>\n",
              "      <td>float64</td>\n",
              "    </tr>\n",
              "    <tr>\n",
              "      <th>Weight</th>\n",
              "      <td>float64</td>\n",
              "    </tr>\n",
              "    <tr>\n",
              "      <th>family_history_with_overweight</th>\n",
              "      <td>int64</td>\n",
              "    </tr>\n",
              "    <tr>\n",
              "      <th>SCC</th>\n",
              "      <td>int64</td>\n",
              "    </tr>\n",
              "    <tr>\n",
              "      <th>MTRANS_Walking</th>\n",
              "      <td>int64</td>\n",
              "    </tr>\n",
              "    <tr>\n",
              "      <th>FAVC_z</th>\n",
              "      <td>float64</td>\n",
              "    </tr>\n",
              "    <tr>\n",
              "      <th>FCVC_minmax</th>\n",
              "      <td>float64</td>\n",
              "    </tr>\n",
              "    <tr>\n",
              "      <th>NCP_z</th>\n",
              "      <td>float64</td>\n",
              "    </tr>\n",
              "    <tr>\n",
              "      <th>CAEC_minmax</th>\n",
              "      <td>float64</td>\n",
              "    </tr>\n",
              "    <tr>\n",
              "      <th>CH2O_minmax</th>\n",
              "      <td>float64</td>\n",
              "    </tr>\n",
              "    <tr>\n",
              "      <th>FAF_minmax</th>\n",
              "      <td>float64</td>\n",
              "    </tr>\n",
              "    <tr>\n",
              "      <th>TUE_z</th>\n",
              "      <td>float64</td>\n",
              "    </tr>\n",
              "    <tr>\n",
              "      <th>CALC_z</th>\n",
              "      <td>float64</td>\n",
              "    </tr>\n",
              "    <tr>\n",
              "      <th>Age_bin_minmax</th>\n",
              "      <td>float64</td>\n",
              "    </tr>\n",
              "    <tr>\n",
              "      <th>NObeyesdad</th>\n",
              "      <td>int64</td>\n",
              "    </tr>\n",
              "  </tbody>\n",
              "</table>\n",
              "</div><br><label><b>dtype:</b> object</label>"
            ]
          },
          "metadata": {},
          "execution_count": 3
        }
      ]
    },
    {
      "cell_type": "code",
      "source": [
        "target_col_name = 'NObeyesdad'\n",
        "X = df.drop(columns=target_col_name)\n",
        "y = df[target_col_name]\n",
        "\n",
        "# Розділимо дані на тренувальні та тестові набори\n",
        "X_train, X_test, y_train, y_test = train_test_split(X, y, test_size=0.3, random_state=42, stratify=y)"
      ],
      "metadata": {
        "id": "ozrkC8kljnHi"
      },
      "execution_count": 4,
      "outputs": []
    },
    {
      "cell_type": "code",
      "source": [
        "# Логістична регресія зі стратегією one-vs-rest (OvR)\n",
        "log_reg = LogisticRegression(solver='liblinear')\n",
        "ovr_model = OneVsRestClassifier(log_reg)\n",
        "ovr_model.fit(X_train, y_train)\n",
        "ovr_predictions = ovr_model.predict(X_test)\n",
        "\n",
        "# Обчислимо метрики precision та recall для кожного класу\n",
        "print(classification_report(y_test, ovr_predictions))"
      ],
      "metadata": {
        "colab": {
          "base_uri": "https://localhost:8080/"
        },
        "id": "1Ijdj0Kpj9-g",
        "outputId": "9cbe0a7a-f911-4005-b7c6-ca3d8831f104"
      },
      "execution_count": 5,
      "outputs": [
        {
          "output_type": "stream",
          "name": "stdout",
          "text": [
            "              precision    recall  f1-score   support\n",
            "\n",
            "           0       0.83      0.93      0.87        82\n",
            "           1       0.61      0.42      0.50        85\n",
            "           2       0.61      0.54      0.57        87\n",
            "           3       0.42      0.45      0.43        83\n",
            "           4       0.64      0.58      0.61       103\n",
            "           5       0.78      0.82      0.80        89\n",
            "           6       0.79      0.99      0.88        97\n",
            "\n",
            "    accuracy                           0.68       626\n",
            "   macro avg       0.67      0.68      0.67       626\n",
            "weighted avg       0.67      0.68      0.67       626\n",
            "\n"
          ]
        }
      ]
    },
    {
      "cell_type": "code",
      "source": [
        "ovr_model.classes_"
      ],
      "metadata": {
        "colab": {
          "base_uri": "https://localhost:8080/"
        },
        "id": "-dV-wI4xlVu8",
        "outputId": "739851d1-44d6-4839-ff73-c9a02b1f0d7c"
      },
      "execution_count": 6,
      "outputs": [
        {
          "output_type": "execute_result",
          "data": {
            "text/plain": [
              "array([0, 1, 2, 3, 4, 5, 6])"
            ]
          },
          "metadata": {},
          "execution_count": 6
        }
      ]
    },
    {
      "cell_type": "code",
      "source": [
        "ovr_model.predict_proba(X_test)[:10].round(2)"
      ],
      "metadata": {
        "colab": {
          "base_uri": "https://localhost:8080/"
        },
        "id": "crXy1HQlLgy1",
        "outputId": "a12ab47e-0423-4b54-ee4a-b0296339f0a8"
      },
      "execution_count": 7,
      "outputs": [
        {
          "output_type": "execute_result",
          "data": {
            "text/plain": [
              "array([[0.  , 0.  , 0.02, 0.02, 0.12, 0.08, 0.75],\n",
              "       [0.41, 0.27, 0.25, 0.04, 0.03, 0.  , 0.  ],\n",
              "       [0.  , 0.01, 0.02, 0.02, 0.07, 0.16, 0.72],\n",
              "       [0.  , 0.03, 0.12, 0.14, 0.64, 0.04, 0.02],\n",
              "       [0.  , 0.2 , 0.3 , 0.2 , 0.27, 0.02, 0.  ],\n",
              "       [0.  , 0.05, 0.09, 0.15, 0.55, 0.16, 0.  ],\n",
              "       [0.  , 0.1 , 0.17, 0.46, 0.23, 0.04, 0.  ],\n",
              "       [0.  , 0.01, 0.05, 0.07, 0.19, 0.65, 0.03],\n",
              "       [0.35, 0.35, 0.05, 0.13, 0.12, 0.  , 0.  ],\n",
              "       [0.  , 0.06, 0.23, 0.14, 0.31, 0.26, 0.  ]])"
            ]
          },
          "metadata": {},
          "execution_count": 7
        }
      ]
    },
    {
      "cell_type": "code",
      "source": [
        "# Логістична регресія зі стратегією one-vs-one (OvO)\n",
        "ovo_model = OneVsOneClassifier(log_reg)\n",
        "ovo_model.fit(X_train, y_train)\n",
        "ovo_predictions = ovo_model.predict(X_test)\n",
        "\n",
        "# Обчислимо метрики precision та recall для кожного класу\n",
        "print(classification_report(y_test, ovo_predictions))\n"
      ],
      "metadata": {
        "colab": {
          "base_uri": "https://localhost:8080/"
        },
        "id": "11SUbyPTj_yT",
        "outputId": "3357365f-e7e1-4042-c414-ce4883db2517"
      },
      "execution_count": 8,
      "outputs": [
        {
          "output_type": "stream",
          "name": "stdout",
          "text": [
            "              precision    recall  f1-score   support\n",
            "\n",
            "           0       0.86      0.94      0.90        82\n",
            "           1       0.82      0.64      0.72        85\n",
            "           2       0.74      0.80      0.77        87\n",
            "           3       0.67      0.64      0.65        83\n",
            "           4       0.81      0.80      0.80       103\n",
            "           5       0.92      0.89      0.90        89\n",
            "           6       0.88      0.99      0.93        97\n",
            "\n",
            "    accuracy                           0.82       626\n",
            "   macro avg       0.81      0.81      0.81       626\n",
            "weighted avg       0.82      0.82      0.81       626\n",
            "\n"
          ]
        }
      ]
    },
    {
      "cell_type": "markdown",
      "source": [
        "Бачимо, що стратегія OVO спрацювала тут краще!"
      ],
      "metadata": {
        "id": "DTRxhouzlQKq"
      }
    },
    {
      "cell_type": "markdown",
      "source": [
        "Як ми б могли порахувати усереднені метрики окремо"
      ],
      "metadata": {
        "id": "w4w2sAXZnODp"
      }
    },
    {
      "cell_type": "code",
      "source": [
        "# Усереднені метрики macro та micro для OvR\n",
        "ovr_macro_precision = precision_score(y_test, ovr_predictions, average='macro')\n",
        "ovr_micro_precision = precision_score(y_test, ovr_predictions, average='micro')\n",
        "ovr_macro_recall = recall_score(y_test, ovr_predictions, average='macro')\n",
        "ovr_micro_recall = recall_score(y_test, ovr_predictions, average='micro')\n",
        "\n",
        "# Усереднені метрики macro та micro для OvO\n",
        "ovo_macro_precision = precision_score(y_test, ovo_predictions, average='macro')\n",
        "ovo_micro_precision = precision_score(y_test, ovo_predictions, average='micro')\n",
        "ovo_macro_recall = recall_score(y_test, ovo_predictions, average='macro')\n",
        "ovo_micro_recall = recall_score(y_test, ovo_predictions, average='micro')\n",
        "\n",
        "# Створимо датафрейм для відображення результатів\n",
        "results = pd.DataFrame({\n",
        "    'Metric': ['Macro Precision', 'Micro Precision', 'Macro Recall', 'Micro Recall'],\n",
        "    'OvR': [ovr_macro_precision, ovr_micro_precision, ovr_macro_recall, ovr_micro_recall],\n",
        "    'OvO': [ovo_macro_precision, ovo_micro_precision, ovo_macro_recall, ovo_micro_recall]\n",
        "})\n",
        "print(results)"
      ],
      "metadata": {
        "colab": {
          "base_uri": "https://localhost:8080/"
        },
        "id": "XQSLkGsakp1r",
        "outputId": "0a251acc-1013-41b7-9ed2-3b56e38cee34"
      },
      "execution_count": 9,
      "outputs": [
        {
          "output_type": "stream",
          "name": "stdout",
          "text": [
            "            Metric       OvR       OvO\n",
            "0  Macro Precision  0.666983  0.813241\n",
            "1  Micro Precision  0.678914  0.816294\n",
            "2     Macro Recall  0.675544  0.812988\n",
            "3     Micro Recall  0.678914  0.816294\n"
          ]
        }
      ]
    },
    {
      "cell_type": "markdown",
      "source": [
        "# Мультилейбл класифікація\n",
        "\n",
        "OneVsRestClassifier може бути використаний також для задач мультилейбл класифікації."
      ],
      "metadata": {
        "id": "tW-btbeymQ0C"
      }
    },
    {
      "cell_type": "code",
      "source": [
        "from sklearn.multiclass import OneVsRestClassifier, OneVsOneClassifier\n",
        "from sklearn.linear_model import LogisticRegression\n",
        "from sklearn.datasets import make_multilabel_classification\n",
        "\n",
        "# Створення мультикласового датасету\n",
        "X, y = make_multilabel_classification(n_samples=100, n_features=20, n_classes=3, n_labels=2, random_state=42)\n",
        "\n",
        "# OneVsRestClassifier\n",
        "ovr_clf = OneVsRestClassifier(LogisticRegression())\n",
        "ovr_clf.fit(X, y)\n",
        "ovr_multilable_predictions = ovr_clf.predict(X)\n",
        "ovr_multilable_proba_predictions = ovr_clf.predict_proba(X)"
      ],
      "metadata": {
        "id": "4Zc688hIiNaa"
      },
      "execution_count": 10,
      "outputs": []
    },
    {
      "cell_type": "markdown",
      "source": [
        "Тут може бути таке, що ми передбачаємо 0 для всіх класів. Тому рекомендую все ж самостійно налаштувати трешхолд в задачі мультилейбл класифікації."
      ],
      "metadata": {
        "id": "aY9hu5uEm71v"
      }
    },
    {
      "cell_type": "code",
      "source": [
        "ovr_multilable_predictions[:4]"
      ],
      "metadata": {
        "colab": {
          "base_uri": "https://localhost:8080/"
        },
        "id": "gAMHvDxompcl",
        "outputId": "d657cc83-6370-4e30-b8ad-6dc58442610f"
      },
      "execution_count": 11,
      "outputs": [
        {
          "output_type": "execute_result",
          "data": {
            "text/plain": [
              "array([[0, 1, 1],\n",
              "       [0, 0, 0],\n",
              "       [1, 1, 1],\n",
              "       [0, 1, 0]])"
            ]
          },
          "metadata": {},
          "execution_count": 11
        }
      ]
    },
    {
      "cell_type": "code",
      "source": [
        "ovr_multilable_proba_predictions.round(2)[:5]"
      ],
      "metadata": {
        "colab": {
          "base_uri": "https://localhost:8080/"
        },
        "id": "2FUiQ_BPm1wZ",
        "outputId": "3f7bdaaf-a5f2-4e32-b543-44e50e056c04"
      },
      "execution_count": 12,
      "outputs": [
        {
          "output_type": "execute_result",
          "data": {
            "text/plain": [
              "array([[0.04, 1.  , 0.66],\n",
              "       [0.12, 0.03, 0.38],\n",
              "       [0.5 , 0.85, 0.8 ],\n",
              "       [0.03, 1.  , 0.09],\n",
              "       [0.02, 1.  , 0.03]])"
            ]
          },
          "metadata": {},
          "execution_count": 12
        }
      ]
    },
    {
      "cell_type": "code",
      "source": [
        "print(classification_report(y, ovr_multilable_predictions))"
      ],
      "metadata": {
        "colab": {
          "base_uri": "https://localhost:8080/"
        },
        "id": "AOOBX65LmGQC",
        "outputId": "690a9757-7121-4a1a-ece7-38c444db73d7"
      },
      "execution_count": 13,
      "outputs": [
        {
          "output_type": "stream",
          "name": "stdout",
          "text": [
            "              precision    recall  f1-score   support\n",
            "\n",
            "           0       0.89      0.89      0.89        45\n",
            "           1       0.93      0.96      0.94        70\n",
            "           2       0.95      0.95      0.95        59\n",
            "\n",
            "   micro avg       0.93      0.94      0.93       174\n",
            "   macro avg       0.92      0.93      0.93       174\n",
            "weighted avg       0.93      0.94      0.93       174\n",
            " samples avg       0.84      0.82      0.82       174\n",
            "\n"
          ]
        },
        {
          "output_type": "stream",
          "name": "stderr",
          "text": [
            "/usr/local/lib/python3.11/dist-packages/sklearn/metrics/_classification.py:1565: UndefinedMetricWarning: Precision is ill-defined and being set to 0.0 in samples with no predicted labels. Use `zero_division` parameter to control this behavior.\n",
            "  _warn_prf(average, modifier, f\"{metric.capitalize()} is\", len(result))\n",
            "/usr/local/lib/python3.11/dist-packages/sklearn/metrics/_classification.py:1565: UndefinedMetricWarning: Recall is ill-defined and being set to 0.0 in samples with no true labels. Use `zero_division` parameter to control this behavior.\n",
            "  _warn_prf(average, modifier, f\"{metric.capitalize()} is\", len(result))\n",
            "/usr/local/lib/python3.11/dist-packages/sklearn/metrics/_classification.py:1565: UndefinedMetricWarning: F-score is ill-defined and being set to 0.0 in samples with no true nor predicted labels. Use `zero_division` parameter to control this behavior.\n",
            "  _warn_prf(average, modifier, f\"{metric.capitalize()} is\", len(result))\n"
          ]
        }
      ]
    },
    {
      "cell_type": "code",
      "source": [
        "y"
      ],
      "metadata": {
        "colab": {
          "base_uri": "https://localhost:8080/"
        },
        "id": "RPNaziR3NBt9",
        "outputId": "f97acb2e-0d38-490a-dc87-4e797c8ad4e7"
      },
      "execution_count": 14,
      "outputs": [
        {
          "output_type": "execute_result",
          "data": {
            "text/plain": [
              "array([[0, 1, 0],\n",
              "       [0, 0, 0],\n",
              "       [1, 1, 1],\n",
              "       [1, 1, 0],\n",
              "       [0, 1, 0],\n",
              "       [1, 1, 0],\n",
              "       [1, 1, 1],\n",
              "       [0, 0, 0],\n",
              "       [1, 1, 1],\n",
              "       [0, 1, 1],\n",
              "       [0, 1, 1],\n",
              "       [1, 1, 1],\n",
              "       [1, 0, 1],\n",
              "       [0, 1, 1],\n",
              "       [1, 1, 0],\n",
              "       [0, 1, 1],\n",
              "       [1, 0, 1],\n",
              "       [0, 1, 1],\n",
              "       [0, 0, 0],\n",
              "       [0, 0, 0],\n",
              "       [1, 1, 1],\n",
              "       [0, 0, 0],\n",
              "       [0, 0, 0],\n",
              "       [0, 0, 0],\n",
              "       [0, 1, 1],\n",
              "       [1, 1, 0],\n",
              "       [1, 1, 1],\n",
              "       [1, 1, 1],\n",
              "       [0, 0, 0],\n",
              "       [1, 1, 1],\n",
              "       [0, 1, 1],\n",
              "       [1, 1, 0],\n",
              "       [1, 0, 1],\n",
              "       [0, 1, 1],\n",
              "       [1, 0, 1],\n",
              "       [1, 0, 1],\n",
              "       [1, 1, 1],\n",
              "       [0, 1, 1],\n",
              "       [0, 0, 0],\n",
              "       [1, 1, 1],\n",
              "       [1, 0, 1],\n",
              "       [0, 0, 0],\n",
              "       [0, 1, 1],\n",
              "       [1, 1, 1],\n",
              "       [0, 1, 1],\n",
              "       [0, 0, 0],\n",
              "       [1, 1, 0],\n",
              "       [0, 1, 1],\n",
              "       [0, 1, 0],\n",
              "       [1, 1, 0],\n",
              "       [1, 1, 1],\n",
              "       [1, 1, 1],\n",
              "       [0, 1, 0],\n",
              "       [0, 1, 1],\n",
              "       [1, 0, 0],\n",
              "       [0, 0, 0],\n",
              "       [0, 1, 0],\n",
              "       [0, 0, 1],\n",
              "       [1, 1, 1],\n",
              "       [1, 1, 1],\n",
              "       [0, 1, 0],\n",
              "       [0, 1, 0],\n",
              "       [1, 1, 0],\n",
              "       [0, 1, 0],\n",
              "       [0, 1, 0],\n",
              "       [1, 0, 1],\n",
              "       [0, 1, 0],\n",
              "       [1, 0, 1],\n",
              "       [0, 0, 1],\n",
              "       [0, 1, 1],\n",
              "       [0, 1, 1],\n",
              "       [0, 0, 1],\n",
              "       [1, 1, 1],\n",
              "       [1, 0, 0],\n",
              "       [1, 1, 0],\n",
              "       [0, 1, 1],\n",
              "       [1, 1, 1],\n",
              "       [1, 1, 0],\n",
              "       [1, 1, 0],\n",
              "       [0, 1, 0],\n",
              "       [0, 1, 1],\n",
              "       [0, 1, 1],\n",
              "       [0, 1, 1],\n",
              "       [0, 0, 0],\n",
              "       [0, 1, 1],\n",
              "       [0, 1, 0],\n",
              "       [0, 1, 0],\n",
              "       [1, 1, 1],\n",
              "       [0, 0, 1],\n",
              "       [1, 1, 1],\n",
              "       [0, 1, 1],\n",
              "       [0, 1, 1],\n",
              "       [0, 1, 1],\n",
              "       [1, 1, 1],\n",
              "       [1, 1, 1],\n",
              "       [0, 0, 1],\n",
              "       [0, 0, 0],\n",
              "       [1, 0, 1],\n",
              "       [1, 1, 0],\n",
              "       [1, 1, 1]])"
            ]
          },
          "metadata": {},
          "execution_count": 14
        }
      ]
    },
    {
      "cell_type": "code",
      "source": [],
      "metadata": {
        "id": "x6krGSwbNCOX"
      },
      "execution_count": null,
      "outputs": []
    }
  ]
}