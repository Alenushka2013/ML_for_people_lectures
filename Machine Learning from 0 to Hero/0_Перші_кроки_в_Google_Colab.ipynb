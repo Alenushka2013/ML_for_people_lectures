{
  "cells": [
    {
      "cell_type": "markdown",
      "metadata": {
        "id": "5fCEDCU_qrC0"
      },
      "source": [
        "<div class=\"markdown-google-sans\">\n",
        "  <h2>Що таке Colab?</h2>\n",
        "</div>\n",
        "\n",
        "Colab, або \"Colaboratory\", дозволяє писати та виконувати Python у вашому браузері, з\n",
        "- Нульовою необхідністю конфігурації\n",
        "- Доступом до GPU безкоштовно\n",
        "- Легким спільним використанням\n",
        "\n",
        "Колаб - це фактично інструмент (бібліотека Python) `jupyter notebook`, розгорнута в хмарі. Щоб дізнатися більше про проект Jupyter, дивіться [jupyter.org](https://www.jupyter.org)."
      ]
    },
    {
      "cell_type": "code",
      "source": [
        "!pip install jupyter-notebook"
      ],
      "metadata": {
        "id": "ozlaRPUboP3Z"
      },
      "execution_count": null,
      "outputs": []
    },
    {
      "cell_type": "markdown",
      "metadata": {
        "id": "GJBs_flRovLc"
      },
      "source": [
        "<div class=\"markdown-google-sans\">\n",
        "\n",
        "## **Початок роботи**\n",
        "</div>\n",
        "\n",
        "Документ, який ви читаєте, є не статичною веб-сторінкою, а інтерактивним середовищем під назвою **Jupyter notebook**, яке дозволяє писати та виконувати код.\n",
        "\n",
        "Наприклад, ось **кодова комірка** з коротким скриптом на Python, який обчислює значення, зберігає його в змінній та виводить результат:\n"
      ]
    },
    {
      "cell_type": "code",
      "execution_count": null,
      "metadata": {
        "id": "gJr_9dXGpJ05",
        "outputId": "d7fd8a13-92e5-4c1c-f752-f9bca94bc7d8",
        "colab": {
          "base_uri": "https://localhost:8080/"
        }
      },
      "outputs": [
        {
          "output_type": "execute_result",
          "data": {
            "text/plain": [
              "86400"
            ]
          },
          "metadata": {},
          "execution_count": 2
        }
      ],
      "source": [
        "seconds_in_a_day = 24 * 60 * 60\n",
        "seconds_in_a_day"
      ]
    },
    {
      "cell_type": "markdown",
      "metadata": {
        "id": "2fhs6GZ4qFMx"
      },
      "source": [
        "Щоб виконати код у наведеній вище комірці, виберіть її клацанням, а потім натисніть кнопку відтворення ліворуч від коду або скористайтеся комбінацією клавіш \"Command/Ctrl+Enter\". Щоб редагувати код, просто клацніть комірку і почніть редагування.\n",
        "\n",
        "Змінні, які ви визначаєте в одній комірці, можуть бути використані пізніше в інших комірках:"
      ]
    },
    {
      "cell_type": "code",
      "execution_count": null,
      "metadata": {
        "id": "-gE-Ez1qtyIA",
        "outputId": "7a38e0ce-d3fe-4a82-b087-3efd09dc8ea5",
        "colab": {
          "base_uri": "https://localhost:8080/"
        }
      },
      "outputs": [
        {
          "output_type": "execute_result",
          "data": {
            "text/plain": [
              "604800"
            ]
          },
          "metadata": {},
          "execution_count": 4
        }
      ],
      "source": [
        "seconds_in_a_week = 7 * seconds_in_a_day\n",
        "seconds_in_a_week"
      ]
    },
    {
      "cell_type": "code",
      "source": [
        "name = 'Hanna'\n",
        "print(f'Hello, {name}!')"
      ],
      "metadata": {
        "colab": {
          "base_uri": "https://localhost:8080/"
        },
        "id": "H1NsmUIGo766",
        "outputId": "75da0c25-6d20-49cd-aed3-793b5bde6bbd"
      },
      "execution_count": null,
      "outputs": [
        {
          "output_type": "stream",
          "name": "stdout",
          "text": [
            "Hello, Hanna!\n"
          ]
        }
      ]
    },
    {
      "cell_type": "markdown",
      "metadata": {
        "id": "lSrWNr3MuFUS"
      },
      "source": [
        "Ноутбуки Colab дозволяють поєднувати **виконуваний код** та **багатий текст** в одному документі, разом із **зображеннями**, **HTML**, **LaTeX** та іншим. Коли ви створюєте власні ноутбуки в Colab, вони зберігаються у вашому обліковому записі Google Drive. Ви можете легко ділитися своїми ноутбуками Colab з колегами або друзями, дозволяючи їм коментувати ваші ноутбуки або навіть редагувати їх.\n",
        "\n",
        "Щоб дізнатися більше, дивіться [Огляд Colab](/notebooks/basic_features_overview.ipynb). Щоб створити новий ноутбук Colab, ви можете скористатися меню Файл вище або скористатися наступним посиланням: [створити новий ноутбук Colab](http://colab.research.google.com#create=true)."
      ]
    },
    {
      "cell_type": "markdown",
      "metadata": {
        "id": "UdRyKR44dcNI"
      },
      "source": [
        "<div class=\"markdown-google-sans\">\n",
        "\n",
        "## Machine Learning/Data Science\n",
        "</div>\n",
        "\n",
        "Colab та jupyter notebooks дуже зручні для задач Machine Learning/Data Science.\n",
        "\n",
        "Нижче наведено бібліотеки, які ми найчастіше використовуємо для машинного навчання, і більшість з них вже встановлені в середовищі Colab за замовчуванням:\n",
        "\n",
        "\n",
        "| Бібліотека      | Призначення                                                                                                                                   |\n",
        "|-----------------|-----------------------------------------------------------------------------------------------------------------------------------------------|\n",
        "| **Pandas**      | Маніпулювання і аналіз даних, робота з табличними даними, підготовка даних для моделей машинного навчання.                                     |\n",
        "| **NumPy**       | Обчислення чисел, підтримує багатовимірні масиви і матриці, часто використовується для числових обчислень і маніпулювання даними.             |\n",
        "| **Matplotlib**  | Візуалізація даних, побудова графіків і діаграм, підтримка 2D-графіків.                                                                       |\n",
        "| **Seaborn**     | Візуалізація даних, побудова статистичних графіків, інтеграція з Pandas і Matplotlib.                                                         |\n",
        "| **Scikit-learn**| Класичні алгоритми машинного навчання (регресія, класифікація, кластеризація), обробка даних та оцінка моделей.                                |\n",
        "| **XGBoost**     | Підвищення градієнтного підсилення для задач регресії, класифікації і ранжування, відомий своєю швидкістю і ефективністю.                     |\n",
        "| **LightGBM**    | Підвищення градієнтного підсилення, оптимізоване для швидкості і продуктивності, особливо для великих даних.                                   |\n",
        "| **CatBoost**    | Підвищення градієнтного підсилення, підтримує категоріальні дані, легко налаштовується і показує високу точність.                              |\n",
        "| **Statsmodels** | Статистичний аналіз, побудова статистичних моделей, оцінка статистичних тестів і візуалізація результатів.                                    |\n",
        "| **TensorFlow**  | Створення та тренування нейронних мереж, глибинне навчання, розпізнавання зображень та мови.                                                   |\n",
        "| **Keras**       | Високорівневий API для TensorFlow, простий у використанні для побудови і тренування нейронних мереж.                                          |\n",
        "| **PyTorch**     | Створення та тренування нейронних мереж, дослідження в області глибинного навчання, динамічні обчислювальні графи.                             |\n",
        "| **NLTK**        | Обробка природної мови (NLP), включає інструменти для токенізації, лематизації, обробки тексту і побудови мовних моделей.                      |\n",
        "| **SpaCy**       | Обробка природної мови, відомий своєю швидкістю і точністю, підтримує токенізацію, частини мови, іменовані сутності і інше.                    |\n",
        "| **Gensim**      | Тематичне моделювання та семантичне аналізування текстів, навчання векторних представлень слів (Word2Vec).                                    |\n",
        "| **OpenCV**      | Комп'ютерний зір, обробка зображень, включає інструменти для розпізнавання об'єктів, аналізу зображень та відео.                              |\n"
      ]
    },
    {
      "cell_type": "markdown",
      "metadata": {
        "id": "4_kCnsPUqS6o"
      },
      "source": [
        "Нижче наведена кодова комірка використовує **numpy** для генерації випадкових даних і **matplotlib** для їх візуалізації. Щоб редагувати код, просто натисніть на комірку і почніть редагування.\n"
      ]
    },
    {
      "cell_type": "code",
      "source": [
        "!pip install numpy matplotlib"
      ],
      "metadata": {
        "id": "SpXD4O7fqDyM"
      },
      "execution_count": null,
      "outputs": []
    },
    {
      "cell_type": "code",
      "execution_count": null,
      "metadata": {
        "colab": {
          "height": 330,
          "base_uri": "https://localhost:8080/"
        },
        "id": "C4HZx7Gndbrh",
        "outputId": "45a6f7e2-8775-4bd8-90d1-f6f191fb3d15"
      },
      "outputs": [
        {
          "output_type": "display_data",
          "data": {
            "text/plain": [
              "<Figure size 400x300 with 1 Axes>"
            ],
            "image/png": "[encoded data removed]"
          },
          "metadata": {}
        }
      ],
      "source": [
        "import numpy as np\n",
        "import matplotlib.pyplot as plt\n",
        "import io\n",
        "import base64\n",
        "\n",
        "ys = 200 + np.random.randn(100)\n",
        "x = [x for x in range(len(ys))]\n",
        "\n",
        "fig = plt.figure(figsize=(4, 3), facecolor='w')\n",
        "plt.plot(x, ys, '-')\n",
        "plt.fill_between(x, ys, 195, where=(ys > 195), facecolor='g', alpha=0.6)\n",
        "plt.title(\"Sample Visualization\", fontsize=10)\n",
        "plt.xlabel('Days', fontsize=10)\n",
        "plt.ylabel('Sales', fontsize=10)\n",
        "plt.show()"
      ]
    },
    {
      "cell_type": "markdown",
      "source": [
        "\n",
        "Ви можете імпортувати власні дані в Colab ноутбуки зі свого облікового запису Google Drive, включаючи електронні таблиці, а також з Github та багатьох інших джерел. Щоб дізнатися більше про імпорт даних і про те, як Colab можна використовувати для науки про дані, дивіться посилання нижче в розділі [Робота з даними](#working-with-data)."
      ],
      "metadata": {
        "id": "VBAlpXcuRfSD"
      }
    },
    {
      "cell_type": "markdown",
      "metadata": {
        "id": "VYV91hbKwP2J"
      },
      "source": [
        "Ноутбуки Colab виконують код на хмарних серверах Google, що означає, що ви можете використовувати потужність обладнання Google, включаючи GPUs та TPUs, незалежно від потужності вашого комп'ютера. Все, що вам потрібно, це браузер.\n",
        "\n",
        "Наприклад, якщо ви чекаєте, поки код **pandas** завершить виконання, і хочете прискорити процес, ви можете переключитися на GPU Runtime і використовувати бібліотеки, такі як [RAPIDS cuDF](https://rapids.ai/cudf-pandas), які забезпечують прискорення без зміни коду."
      ]
    },
    {
      "cell_type": "code",
      "source": [
        "import pandas as pd\n",
        "\n",
        "df = pd.read_csv('2022_dec_raw.csv', sep=';')"
      ],
      "metadata": {
        "id": "Ndc2JDScrbIk"
      },
      "execution_count": null,
      "outputs": []
    },
    {
      "cell_type": "code",
      "source": [
        "df.info()"
      ],
      "metadata": {
        "colab": {
          "base_uri": "https://localhost:8080/"
        },
        "id": "hgPHAfKXruuF",
        "outputId": "4e128de4-a1d4-489e-a277-f4b5f4cea9dc"
      },
      "execution_count": null,
      "outputs": [
        {
          "output_type": "stream",
          "name": "stdout",
          "text": [
            "<class 'pandas.core.frame.DataFrame'>\n",
            "RangeIndex: 13315 entries, 0 to 13314\n",
            "Data columns (total 28 columns):\n",
            " #   Column                                                                      Non-Null Count  Dtype \n",
            "---  ------                                                                      --------------  ----- \n",
            " 0   Timestamp                                                                   13315 non-null  object\n",
            " 1   Ви працюєте зараз в ІТ?                                                     13315 non-null  object\n",
            " 2   Де ви зараз живете?                                                         13315 non-null  object\n",
            " 3   В якій області ви зараз живете?                                             11538 non-null  object\n",
            " 4   Зарплата у $$$ за місяць, лише ставка після сплати податків                 13288 non-null  object\n",
            " 5   Ваша стать                                                                  13315 non-null  object\n",
            " 6   Ваш вік                                                                     13315 non-null  object\n",
            " 7   Яка у вас освіта?                                                           13315 non-null  object\n",
            " 8   Чи є у вас науковий ступінь?                                                13204 non-null  object\n",
            " 9   Знання англійської мови                                                     13315 non-null  object\n",
            " 10  Оберіть вашу посаду                                                         13315 non-null  object\n",
            " 11  Ваш тайтл                                                                   13315 non-null  object\n",
            " 12  Ваша спеціалізація                                                          159 non-null    object\n",
            " 13  Вкажіть вашу спеціалізацію                                                  2364 non-null   object\n",
            " 14  Оберіть вашу спеціалізацію                                                  486 non-null    object\n",
            " 15  Ваша посада                                                                 305 non-null    object\n",
            " 16  Оберіть вашу посаду2                                                        560 non-null    object\n",
            " 17  Ваша посада3                                                                821 non-null    object\n",
            " 18  Ваша посада4                                                                485 non-null    object\n",
            " 19  Ваша посада5                                                                288 non-null    object\n",
            " 20  Ваша посада6                                                                353 non-null    object\n",
            " 21  Ваша посада7                                                                116 non-null    object\n",
            " 22  Чи використовуєте ви у своїй роботі мови програмування (одну чи декілька)?  4874 non-null   object\n",
            " 23  Основна мова програмування                                                  9060 non-null   object\n",
            " 24  Вкажіть вашу основну спеціалізацію                                          9059 non-null   object\n",
            " 25  В якій сфері працюєте?                                                      13315 non-null  object\n",
            " 26  Тип компанії                                                                13315 non-null  object\n",
            " 27  Загальний стаж роботи за спеціальністю                                      13315 non-null  object\n",
            "dtypes: object(28)\n",
            "memory usage: 2.8+ MB\n"
          ]
        }
      ]
    },
    {
      "cell_type": "markdown",
      "metadata": {
        "id": "-Rh3-Vt9Nev9"
      },
      "source": [
        "<div class=\"markdown-google-sans\">\n",
        "\n",
        "## Додаткові ресурси\n",
        "\n",
        "### Робота з ноутбуками в Colab\n",
        "\n",
        "</div>\n",
        "\n",
        "- [Огляд Colab](/notebooks/basic_features_overview.ipynb)\n",
        "- [Посібник з Markdown](/notebooks/markdown_guide.ipynb)\n",
        "- [Імпорт бібліотек та встановлення залежностей](/notebooks/snippets/importing_libraries.ipynb)\n",
        "- [Збереження та завантаження ноутбуків у GitHub](https://colab.research.google.com/github/googlecolab/colabtools/blob/main/notebooks/colab-github-demo.ipynb)\n",
        "- [Інтерактивні форми](/notebooks/forms.ipynb)\n",
        "- [Інтерактивні віджети](/notebooks/widgets.ipynb)\n",
        "\n",
        "<div class=\"markdown-google-sans\">\n",
        "\n",
        "<a name=\"working-with-data\"></a>\n",
        "### Робота з даними\n",
        "</div>\n",
        "\n",
        "- [Завантаження даних: Drive, Sheets та Google Cloud Storage](/notebooks/io.ipynb)\n",
        "- [Графіки: візуалізація даних](/notebooks/charts.ipynb)\n",
        "- [Початок роботи з BigQuery](/notebooks/bigquery.ipynb)\n",
        "\n",
        "<div class=\"markdown-google-sans\">\n"
      ]
    },
    {
      "cell_type": "markdown",
      "metadata": {
        "id": "P-H6Lw1vyNNd"
      },
      "source": [
        "<div class=\"markdown-google-sans\">\n",
        "\n",
        "<a name=\"machine-learning-examples\"></a>\n",
        "\n",
        "### Приклади проєктів з машинного навчання\n",
        "\n",
        "</div>\n",
        "\n",
        "- [Файнтюнинг класифікатора зображень](https://tensorflow.org/hub/tutorials/tf2_image_retraining): Створення моделі Keras на основі попередньо навченого класифікатора зображень для розпізнавання квітів.\n",
        "- [Класифікація тексту](https://tensorflow.org/hub/tutorials/tf2_text_classification): Класифікація оглядів фільмів IMDB як *позитивні* або *негативні*.\n",
        "- [Передача стилю картинки](https://tensorflow.org/hub/tutorials/tf2_arbitrary_image_stylization): Використання глибокого навчання для передачі стилю між зображеннями."
      ]
    }
  ],
  "metadata": {
    "colab": {
      "provenance": []
    },
    "kernelspec": {
      "display_name": "Python 3",
      "name": "python3"
    }
  },
  "nbformat": 4,
  "nbformat_minor": 0
}